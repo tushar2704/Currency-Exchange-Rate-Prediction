{
 "cells": [
  {
   "cell_type": "markdown",
   "id": "3f8c39c9",
   "metadata": {
    "execution": {
     "iopub.execute_input": "2023-02-01T18:49:37.637425Z",
     "iopub.status.busy": "2023-02-01T18:49:37.635983Z",
     "iopub.status.idle": "2023-02-01T18:49:37.653040Z",
     "shell.execute_reply": "2023-02-01T18:49:37.651436Z",
     "shell.execute_reply.started": "2023-02-01T18:49:37.637279Z"
    },
    "papermill": {
     "duration": 0.006442,
     "end_time": "2023-02-01T19:30:36.668191",
     "exception": false,
     "start_time": "2023-02-01T19:30:36.661749",
     "status": "completed"
    },
    "tags": []
   },
   "source": [
    "<div style=\"color:white;\n",
    "           display:fill;\n",
    "           border-radius:20px;\n",
    "           background-color:#F5DEB3;\n",
    "           font-size:170%;\n",
    "           font-family:Helvetica, Sans-Serif;\n",
    "           letter-spacing:0.5px\">\n",
    "<p style=\"padding: 10px;\n",
    "          text-align: center;\n",
    "          font-size:150%;\n",
    "          color:blue;\">\n",
    "           🦿🤖Mobile Games A/B Testing with Cookie Cats🦿🤖\n",
    "            \n",
    "</p>\n",
    "<style>\n",
    "        h1{text-align: center;}\n",
    "</style>  \n",
    "    \n",
    "</div>\n",
    "\n",
    "<p style=\"font-family:cursive; font-size:15px; color:'darkcyan';\">I brewed this notebook from scratch, If this notebook helped, please consider upvoting and cite me if sharing ,Thank you!</p>\n",
    "<p style=\"width: 250px;padding: 15px;background: papayawhip;border-radius:10px;font-size:15px;border-radius:20px\">\n",
    "    <a href=\"https://www.linkedin.com/in/tusharaggarwalinseec/\" target=\"_blank\">Lets connect on LinkedIn!</a>\n",
    "    \n",
    "   </p>\n",
    "<p style=\"width: 250px;padding: 15px;background: papayawhip;border-radius:10px;font-size:15px;border-radius:20px\">\n",
    "<a href=\"https://github.com/tushar2704\" target=\"_blank\">Follow me on Github too!</a> </p>\n",
    "<p style=\"width:270px;padding: 15px;background: papayawhip;border-radius:10px;font-size:15px;border-radius:20px\">\n",
    "    <a href=\"https://medium.com/@tushar_aggarwal\" target=\"_blank\">Also checkout my Medium posts!</a>\n",
    "    \n",
    "   </p>"
   ]
  },
  {
   "cell_type": "markdown",
   "id": "65f397ab",
   "metadata": {
    "papermill": {
     "duration": 0.005463,
     "end_time": "2023-02-01T19:30:36.679431",
     "exception": false,
     "start_time": "2023-02-01T19:30:36.673968",
     "status": "completed"
    },
    "tags": []
   },
   "source": [
    "<div class=\"alert alert-info\" role=\"alert\" style=\"font-size:17px;border-radius:20px\">\n",
    "    <b>In this notebook, I am analyze the result of an A/B test where the first gate in Cookie Cats game was moved from level 30 to level 40</b>\n",
    "   \n",
    "  </div>"
   ]
  },
  {
   "cell_type": "markdown",
   "id": "1c75ef9c",
   "metadata": {
    "papermill": {
     "duration": 0.005604,
     "end_time": "2023-02-01T19:30:36.690675",
     "exception": false,
     "start_time": "2023-02-01T19:30:36.685071",
     "status": "completed"
    },
    "tags": []
   },
   "source": [
    "<p style=\"width: 1000px;padding: 20px;background: papayawhip;border-radius:10px;font-size:25px;border-radius:20px\">\n",
    "    <b>🦿🤖Cookie Cats🦿🤖</b>\n",
    "</p>\n",
    "   <p style=\"width: 1000px;padding: 20px;background: papayawhip;border-radius:10px;font-size:17px;border-radius:20px\"> \n",
    "    <b>Some things to Note:</b><br>\n",
    "    <b>1.</b><a href=\"https://www.facebook.com/cookiecatsgame\">Cookie Cats</a> is a hugely popular mobile puzzle game developed by <a href=\"http://tactile.dk\">Tactile Entertainment</a>. It's a classic \"connect three\"-style puzzle game where the player must connect tiles of the same color to clear the board and win the level. Check out this short demo:\n",
    "    <a href=\"https://youtu.be/GaP5f0jVTWE\"><img src=\"https://assets.datacamp.com/production/project_184/img/cookie_cats_video.jpeg\" style=\"width: 500px\"></a>\n",
    "    <br><br><b>2. </b>As players progress through the levels of the game, they will occasionally encounter gates that force them to wait a non-trivial amount of time or make an in-app purchase to progress. In addition to driving in-app purchases, these gates serve the important purpose of giving players an enforced break from playing the game, hopefully resulting in that the player's enjoyment of the game being increased and prolonged.\n",
    "    <br><img src=\"https://assets.datacamp.com/production/project_184/img/cc_gates.png\" alt>\n",
    "    <br><br><b>3. </b>\n",
    "But where should the gates be placed? Initially the first gate was placed at level 30, but in this notebook I am going to analyze an AB-test where we moved the first gate in Cookie Cats from level 30 to level 40. In particular,a look at the impact on player retention.\n",
    "</p>\n"
   ]
  },
  {
   "cell_type": "markdown",
   "id": "c899df38",
   "metadata": {
    "dc": {
     "key": "3"
    },
    "deletable": false,
    "papermill": {
     "duration": 0.005723,
     "end_time": "2023-02-01T19:30:36.702323",
     "exception": false,
     "start_time": "2023-02-01T19:30:36.696600",
     "status": "completed"
    },
    "run_control": {
     "frozen": true
    },
    "tags": [
     "context"
    ]
   },
   "source": [
    "<p style=\"width: 1000px;padding: 20px;background: papayawhip;border-radius:10px;font-size:20px;border-radius:20px\">Loading the data\n",
    "    \n",
    "   </p>"
   ]
  },
  {
   "cell_type": "code",
   "execution_count": 1,
   "id": "6a9ca757",
   "metadata": {
    "dc": {
     "key": "3"
    },
    "execution": {
     "iopub.execute_input": "2023-02-01T19:30:36.715878Z",
     "iopub.status.busy": "2023-02-01T19:30:36.715468Z",
     "iopub.status.idle": "2023-02-01T19:30:36.824182Z",
     "shell.execute_reply": "2023-02-01T19:30:36.823240Z"
    },
    "papermill": {
     "duration": 0.118468,
     "end_time": "2023-02-01T19:30:36.826684",
     "exception": false,
     "start_time": "2023-02-01T19:30:36.708216",
     "status": "completed"
    },
    "tags": [
     "sample_code"
    ]
   },
   "outputs": [
    {
     "name": "stdout",
     "output_type": "stream",
     "text": [
      "   userid  version  sum_gamerounds  retention_1  retention_7\n",
      "0     116  gate_30               3        False        False\n",
      "1     337  gate_30              38         True        False\n",
      "2     377  gate_40             165         True        False\n",
      "3     483  gate_40               1        False        False\n",
      "4     488  gate_40             179         True         True\n"
     ]
    }
   ],
   "source": [
    "# Importing pandas\n",
    "import pandas as pd\n",
    "\n",
    "# Reading in the data\n",
    "df = pd.read_csv(\"/kaggle/input/cookie-cats-game/cookie_cats.csv\")\n",
    "\n",
    "# Showing the first few rows\n",
    "print(df.head())"
   ]
  },
  {
   "cell_type": "markdown",
   "id": "8e8404e1",
   "metadata": {
    "dc": {
     "key": "10"
    },
    "deletable": false,
    "papermill": {
     "duration": 0.005796,
     "end_time": "2023-02-01T19:30:36.838512",
     "exception": false,
     "start_time": "2023-02-01T19:30:36.832716",
     "status": "completed"
    },
    "run_control": {
     "frozen": true
    },
    "tags": [
     "context"
    ]
   },
   "source": [
    "<p style=\"width: 1000px;padding: 20px;background: papayawhip;border-radius:10px;font-size:17px;border-radius:20px\"> \n",
    "<b>AB-test data:</b><br>The data we have is from 90,189 players that installed the game while the AB-test was running. The variables are:\n",
    "<br><code>userid</code> - a unique number that identifies each player.\n",
    "<br><code>version</code> - whether the player was put in the control group (<code>gate_30</code> - a gate at level 30) or the group with the moved gate (<code>gate_40</code> - a gate at level 40).\n",
    "<br><code>sum_gamerounds</code> - the number of game rounds played by the player during the first 14 days after install.\n",
    "<br><code>retention_1</code> - did the player come back and play <strong>1 day</strong> after installing?\n",
    "<br><code>retention_7</code> - did the player come back and play <strong>7 days</strong> after installing?\n",
    "<br>When a player installed the game, he or she was randomly assigned to either <code>gate_30</code> or <code>gate_40</code>.   \n",
    "</p>\n"
   ]
  },
  {
   "cell_type": "code",
   "execution_count": 2,
   "id": "00103fad",
   "metadata": {
    "dc": {
     "key": "10"
    },
    "execution": {
     "iopub.execute_input": "2023-02-01T19:30:36.852273Z",
     "iopub.status.busy": "2023-02-01T19:30:36.851919Z",
     "iopub.status.idle": "2023-02-01T19:30:36.873260Z",
     "shell.execute_reply": "2023-02-01T19:30:36.871372Z"
    },
    "papermill": {
     "duration": 0.030684,
     "end_time": "2023-02-01T19:30:36.875359",
     "exception": false,
     "start_time": "2023-02-01T19:30:36.844675",
     "status": "completed"
    },
    "tags": [
     "sample_code"
    ]
   },
   "outputs": [
    {
     "name": "stdout",
     "output_type": "stream",
     "text": [
      "version\n",
      "gate_30    44700\n",
      "gate_40    45489\n",
      "Name: userid, dtype: int64\n"
     ]
    }
   ],
   "source": [
    "# Counting the number of players in each AB group.\n",
    "print(df.groupby('version')['userid'].count())"
   ]
  },
  {
   "cell_type": "markdown",
   "id": "8b1bf6b5",
   "metadata": {
    "dc": {
     "key": "17"
    },
    "deletable": false,
    "papermill": {
     "duration": 0.005543,
     "end_time": "2023-02-01T19:30:36.886966",
     "exception": false,
     "start_time": "2023-02-01T19:30:36.881423",
     "status": "completed"
    },
    "run_control": {
     "frozen": true
    },
    "tags": [
     "context"
    ]
   },
   "source": [
    "<p style=\"width: 1000px;padding: 20px;background: papayawhip;border-radius:10px;font-size:17px;border-radius:20px\"> \n",
    "<b>The distribution of game rounds</b><br><img src=\"https://assets.datacamp.com/production/project_184/img/mr_waffles_smiling.png\" style=\"width:100px; float:left\">\n",
    "<br>It looks like there is roughly the same number of players in each group,\n",
    "<br>The focus of this analysis will be on how the gate placement affects player retention  \n",
    "</p>"
   ]
  },
  {
   "cell_type": "code",
   "execution_count": 3,
   "id": "2a8165d2",
   "metadata": {
    "dc": {
     "key": "17"
    },
    "execution": {
     "iopub.execute_input": "2023-02-01T19:30:36.900569Z",
     "iopub.status.busy": "2023-02-01T19:30:36.900166Z",
     "iopub.status.idle": "2023-02-01T19:30:37.119695Z",
     "shell.execute_reply": "2023-02-01T19:30:37.118158Z"
    },
    "papermill": {
     "duration": 0.229632,
     "end_time": "2023-02-01T19:30:37.122472",
     "exception": false,
     "start_time": "2023-02-01T19:30:36.892840",
     "status": "completed"
    },
    "tags": [
     "sample_code"
    ]
   },
   "outputs": [
    {
     "data": {
      "text/plain": [
       "Text(0, 0.5, 'userid')"
      ]
     },
     "execution_count": 3,
     "metadata": {},
     "output_type": "execute_result"
    },
    {
     "data": {
      "image/png": "[encoded data removed]",
      "text/plain": [
       "<Figure size 432x288 with 1 Axes>"
      ]
     },
     "metadata": {
      "needs_background": "light"
     },
     "output_type": "display_data"
    }
   ],
   "source": [
    "%matplotlib inline\n",
    "\n",
    "# Counting the number of players for each number of gamerounds \n",
    "plot_df = df.groupby('sum_gamerounds')['userid'].count()\n",
    "\n",
    "# Plotting the distribution of players that played 0 to 100 game rounds\n",
    "ax = plot_df.head(n=100).plot(x='sum_gamegrounds',y='userid',kind='hist')\n",
    "ax.set_xlabel(\"sum_gamerounds\")\n",
    "ax.set_ylabel(\"userid\")"
   ]
  },
  {
   "cell_type": "markdown",
   "id": "0aefdb25",
   "metadata": {
    "dc": {
     "key": "24"
    },
    "deletable": false,
    "papermill": {
     "duration": 0.006002,
     "end_time": "2023-02-01T19:30:37.134990",
     "exception": false,
     "start_time": "2023-02-01T19:30:37.128988",
     "status": "completed"
    },
    "run_control": {
     "frozen": true
    },
    "tags": [
     "context"
    ]
   },
   "source": [
    "<p style=\"width: 1000px;padding: 20px;background: papayawhip;border-radius:10px;font-size:17px;border-radius:20px\"> \n",
    "<b>Overall 1-day retention</b><br>\n",
    "<br>&#8226; In the plot above we can see that some players install the game but then never play it (0 game rounds), some players just play a couple of game rounds in their first week, and some get really hooked!\n",
    "<br>&#8226; What we want is for players to like the game and to get hooked. A common metric in the video gaming industry for how fun and engaging a game is <em>1-day retention</em>: The percentage of players that comes back and plays the game <em>one day</em> after they have installed it. The higher 1-day retention is, the easier it is to retain players and build a large player base.\n",
    "</p>\n"
   ]
  },
  {
   "cell_type": "code",
   "execution_count": 4,
   "id": "51f36006",
   "metadata": {
    "dc": {
     "key": "24"
    },
    "execution": {
     "iopub.execute_input": "2023-02-01T19:30:37.150607Z",
     "iopub.status.busy": "2023-02-01T19:30:37.150204Z",
     "iopub.status.idle": "2023-02-01T19:30:37.157326Z",
     "shell.execute_reply": "2023-02-01T19:30:37.155968Z"
    },
    "papermill": {
     "duration": 0.018108,
     "end_time": "2023-02-01T19:30:37.160355",
     "exception": false,
     "start_time": "2023-02-01T19:30:37.142247",
     "status": "completed"
    },
    "tags": [
     "sample_code"
    ]
   },
   "outputs": [
    {
     "name": "stdout",
     "output_type": "stream",
     "text": [
      "0.4452095044850259\n"
     ]
    }
   ],
   "source": [
    "# The % of users that came back the day after they installed\n",
    "print(df['retention_1'].mean())"
   ]
  },
  {
   "cell_type": "markdown",
   "id": "c5d3e59d",
   "metadata": {
    "dc": {
     "key": "31"
    },
    "deletable": false,
    "papermill": {
     "duration": 0.005926,
     "end_time": "2023-02-01T19:30:37.173768",
     "exception": false,
     "start_time": "2023-02-01T19:30:37.167842",
     "status": "completed"
    },
    "run_control": {
     "frozen": true
    },
    "tags": [
     "context"
    ]
   },
   "source": [
    "<p style=\"width: 1000px;padding: 20px;background: papayawhip;border-radius:10px;font-size:17px;border-radius:20px\"> \n",
    "<b>1-day retention by AB-group</b><br>\n",
    "    <img src=\"https://assets.datacamp.com/production/project_184/img/belle_cookie.png\" style=\"width:100px; float:right\"> \n",
    "<br>&#8226; A little less than half of the players come back one day after installing the game. Now that I have a benchmark, let's look at how 1-day retention differs between the two AB-groups.\n",
    "</p>\n"
   ]
  },
  {
   "cell_type": "code",
   "execution_count": 5,
   "id": "e680df4f",
   "metadata": {
    "dc": {
     "key": "31"
    },
    "execution": {
     "iopub.execute_input": "2023-02-01T19:30:37.187929Z",
     "iopub.status.busy": "2023-02-01T19:30:37.187570Z",
     "iopub.status.idle": "2023-02-01T19:30:37.203845Z",
     "shell.execute_reply": "2023-02-01T19:30:37.203034Z"
    },
    "papermill": {
     "duration": 0.025649,
     "end_time": "2023-02-01T19:30:37.205804",
     "exception": false,
     "start_time": "2023-02-01T19:30:37.180155",
     "status": "completed"
    },
    "tags": [
     "sample_code"
    ]
   },
   "outputs": [
    {
     "name": "stdout",
     "output_type": "stream",
     "text": [
      "version\n",
      "gate_30    0.448188\n",
      "gate_40    0.442283\n",
      "Name: retention_1, dtype: float64\n"
     ]
    }
   ],
   "source": [
    "# Calculating 1-day retention for each AB-group\n",
    "print(df.groupby('version')['retention_1'].mean())"
   ]
  },
  {
   "cell_type": "markdown",
   "id": "c8c1e703",
   "metadata": {
    "dc": {
     "key": "38"
    },
    "deletable": false,
    "papermill": {
     "duration": 0.007228,
     "end_time": "2023-02-01T19:30:37.219452",
     "exception": false,
     "start_time": "2023-02-01T19:30:37.212224",
     "status": "completed"
    },
    "run_control": {
     "frozen": true
    },
    "tags": [
     "context"
    ]
   },
   "source": [
    "<p style=\"width: 1000px;padding: 20px;background: papayawhip;border-radius:10px;font-size:17px;border-radius:20px\"> \n",
    "<b>Should we be confident in the difference?</b><br>\n",
    "<br>&#8226; It appears that there was a slight decrease in 1-day retention when the gate was moved to level 40 (44.2%) compared to the control when it was at level 30 (44.8%). It's a small change, but even small changes in retention can have a large impact. But while we are certain of the difference in the data, how certain should we be that a gate at level 40 will be worse in the future?\n",
    "    <br><br>&#8226; Now repeatedly re-sample our dataset (with replacement) and calculate 1-day retention for those samples \n",
    "</p>"
   ]
  },
  {
   "cell_type": "code",
   "execution_count": 6,
   "id": "3f379ddd",
   "metadata": {
    "dc": {
     "key": "38"
    },
    "execution": {
     "iopub.execute_input": "2023-02-01T19:30:37.236209Z",
     "iopub.status.busy": "2023-02-01T19:30:37.235788Z",
     "iopub.status.idle": "2023-02-01T19:30:47.289220Z",
     "shell.execute_reply": "2023-02-01T19:30:47.287786Z"
    },
    "papermill": {
     "duration": 10.064886,
     "end_time": "2023-02-01T19:30:47.292154",
     "exception": false,
     "start_time": "2023-02-01T19:30:37.227268",
     "status": "completed"
    },
    "tags": [
     "sample_code"
    ]
   },
   "outputs": [
    {
     "data": {
      "text/plain": [
       "<AxesSubplot:ylabel='Density'>"
      ]
     },
     "execution_count": 6,
     "metadata": {},
     "output_type": "execute_result"
    },
    {
     "data": {
      "image/png": "[encoded data removed]",
      "text/plain": [
       "<Figure size 432x288 with 1 Axes>"
      ]
     },
     "metadata": {
      "needs_background": "light"
     },
     "output_type": "display_data"
    }
   ],
   "source": [
    "# Creating an list with bootstrapped means for each AB-group\n",
    "boot_1d = []\n",
    "for i in range(500):\n",
    "    boot_mean = df.sample(frac=1, replace=True).groupby('version')['retention_1'].mean()\n",
    "    boot_1d.append(boot_mean)\n",
    "    \n",
    "# Transforming the list to a DataFrame\n",
    "boot_1d = pd.DataFrame(boot_1d)\n",
    "    \n",
    "# Plotting a Kernel Density Estimate plot of the bootstrap distributions\n",
    "boot_1d.plot(kind='kde')"
   ]
  },
  {
   "cell_type": "markdown",
   "id": "0742d66b",
   "metadata": {
    "dc": {
     "key": "46"
    },
    "deletable": false,
    "papermill": {
     "duration": 0.006644,
     "end_time": "2023-02-01T19:30:47.305734",
     "exception": false,
     "start_time": "2023-02-01T19:30:47.299090",
     "status": "completed"
    },
    "run_control": {
     "frozen": true
    },
    "tags": [
     "context"
    ]
   },
   "source": [
    "<p style=\"width: 1000px;padding: 20px;background: papayawhip;border-radius:10px;font-size:17px;border-radius:20px\"> \n",
    "<b>Zooming in on the difference</b><br>\n",
    "<br>&#8226; These two distributions above represent the bootstrap uncertainty over what the underlying 1-day retention could be for the two AB-groups. Just eyeballing this plot, we can see that there seems to be some evidence of a difference, albeit small. Let's zoom in on the difference in 1-day retention.\n",
    "</p>\n"
   ]
  },
  {
   "cell_type": "code",
   "execution_count": 7,
   "id": "9d853aab",
   "metadata": {
    "dc": {
     "key": "46"
    },
    "execution": {
     "iopub.execute_input": "2023-02-01T19:30:47.321203Z",
     "iopub.status.busy": "2023-02-01T19:30:47.320823Z",
     "iopub.status.idle": "2023-02-01T19:30:47.480163Z",
     "shell.execute_reply": "2023-02-01T19:30:47.478897Z"
    },
    "papermill": {
     "duration": 0.170066,
     "end_time": "2023-02-01T19:30:47.482666",
     "exception": false,
     "start_time": "2023-02-01T19:30:47.312600",
     "status": "completed"
    },
    "tags": [
     "sample_code"
    ]
   },
   "outputs": [
    {
     "data": {
      "text/plain": [
       "Text(0.5, 0, '% difference in means')"
      ]
     },
     "execution_count": 7,
     "metadata": {},
     "output_type": "execute_result"
    },
    {
     "data": {
      "image/png": "[encoded data removed]",
      "text/plain": [
       "<Figure size 432x288 with 1 Axes>"
      ]
     },
     "metadata": {
      "needs_background": "light"
     },
     "output_type": "display_data"
    }
   ],
   "source": [
    "# Adding a column with the % difference between the two AB-groups\n",
    "boot_1d['diff'] = (boot_1d['gate_30'] - boot_1d['gate_40']) /  boot_1d['gate_40'] * 100\n",
    "\n",
    "# Ploting the bootstrap % difference\n",
    "ax = boot_1d['diff'].plot(kind = 'kde')\n",
    "ax.set_xlabel(\"% difference in means\")"
   ]
  },
  {
   "cell_type": "markdown",
   "id": "fe31c4ac",
   "metadata": {
    "dc": {
     "key": "53"
    },
    "deletable": false,
    "papermill": {
     "duration": 0.007052,
     "end_time": "2023-02-01T19:30:47.497169",
     "exception": false,
     "start_time": "2023-02-01T19:30:47.490117",
     "status": "completed"
    },
    "run_control": {
     "frozen": true
    },
    "tags": [
     "context"
    ]
   },
   "source": [
    "<p style=\"width: 1000px;padding: 20px;background: papayawhip;border-radius:10px;font-size:17px;border-radius:20px\"> \n",
    "<b>Probability of a difference</b><br><img src=\"https://assets.datacamp.com/production/project_184/img/ziggy_smiling.png\" style=\"width:100px; float:left\">\n",
    "<br>&#8226; From this chart, we can see that the most likely % difference is around 1% - 2%, and that most of the distribution is above 0%, in favor of a gate at level 30. But what is the <em>probability</em> that the difference is above 0%? Let's calculate that as well.\n",
    "</p>\n"
   ]
  },
  {
   "cell_type": "code",
   "execution_count": 8,
   "id": "6fcf95ac",
   "metadata": {
    "dc": {
     "key": "53"
    },
    "execution": {
     "iopub.execute_input": "2023-02-01T19:30:47.513282Z",
     "iopub.status.busy": "2023-02-01T19:30:47.512872Z",
     "iopub.status.idle": "2023-02-01T19:30:47.520130Z",
     "shell.execute_reply": "2023-02-01T19:30:47.519213Z"
    },
    "papermill": {
     "duration": 0.017619,
     "end_time": "2023-02-01T19:30:47.522039",
     "exception": false,
     "start_time": "2023-02-01T19:30:47.504420",
     "status": "completed"
    },
    "tags": [
     "sample_code"
    ]
   },
   "outputs": [
    {
     "data": {
      "text/plain": [
       "'96.2%'"
      ]
     },
     "execution_count": 8,
     "metadata": {},
     "output_type": "execute_result"
    }
   ],
   "source": [
    "# Calculating the probability that 1-day retention is greater when the gate is at level 30\n",
    "prob = (boot_1d['diff']>0.0).sum()/len(boot_1d)\n",
    "\n",
    "# Pretty printing the probability\n",
    "'{:.1%}'.format(prob)"
   ]
  },
  {
   "cell_type": "markdown",
   "id": "5218f83b",
   "metadata": {
    "dc": {
     "key": "60"
    },
    "deletable": false,
    "papermill": {
     "duration": 0.007071,
     "end_time": "2023-02-01T19:30:47.536388",
     "exception": false,
     "start_time": "2023-02-01T19:30:47.529317",
     "status": "completed"
    },
    "run_control": {
     "frozen": true
    },
    "tags": [
     "context"
    ]
   },
   "source": [
    "<p style=\"width: 1000px;padding: 20px;background: papayawhip;border-radius:10px;font-size:17px;border-radius:20px\"> \n",
    "<b>7-day retention by AB-group</b><br><img src=\"https://assets.datacamp.com/production/project_184/img/ziggy_smiling.png\" style=\"width:100px; float:left\">\n",
    "<br>&#8226; players have only been playing the game for one day, it is likely that most players haven't reached level 30 yet. That is, many players won't have been affected by the gate, even if it's as early as level 30.\n",
    "    <br><br>&#8226; But after having played for a week, more players should have reached level 40, and therefore it makes sense to also look at 7-day retention. That is: What percentage of the people that installed the game also showed up a week later to play the game again.\n",
    "</p>\n"
   ]
  },
  {
   "cell_type": "code",
   "execution_count": 9,
   "id": "66c2f6d0",
   "metadata": {
    "dc": {
     "key": "60"
    },
    "execution": {
     "iopub.execute_input": "2023-02-01T19:30:47.552864Z",
     "iopub.status.busy": "2023-02-01T19:30:47.552237Z",
     "iopub.status.idle": "2023-02-01T19:30:47.567273Z",
     "shell.execute_reply": "2023-02-01T19:30:47.566077Z"
    },
    "papermill": {
     "duration": 0.025743,
     "end_time": "2023-02-01T19:30:47.569320",
     "exception": false,
     "start_time": "2023-02-01T19:30:47.543577",
     "status": "completed"
    },
    "tags": [
     "sample_code"
    ]
   },
   "outputs": [
    {
     "name": "stdout",
     "output_type": "stream",
     "text": [
      "version\n",
      "gate_30    0.190201\n",
      "gate_40    0.182000\n",
      "Name: retention_7, dtype: float64\n"
     ]
    }
   ],
   "source": [
    "# Calculating 7-day retention for both AB-groups\n",
    "print(df.groupby('version')['retention_7'].mean())"
   ]
  },
  {
   "cell_type": "markdown",
   "id": "a14fd670",
   "metadata": {
    "dc": {
     "key": "67"
    },
    "deletable": false,
    "papermill": {
     "duration": 0.007185,
     "end_time": "2023-02-01T19:30:47.583834",
     "exception": false,
     "start_time": "2023-02-01T19:30:47.576649",
     "status": "completed"
    },
    "run_control": {
     "frozen": true
    },
    "tags": [
     "context"
    ]
   },
   "source": [
    "<p style=\"width: 1000px;padding: 20px;background: papayawhip;border-radius:10px;font-size:17px;border-radius:20px\"> \n",
    "<b>Bootstrapping the difference again</b><br>\n",
    "<br>&#8226;  we see that 7-day retention is slightly lower (18.2%) when the gate is at level 40 than when the gate is at level 30 (19.0%). This difference is also larger than for 1-day retention, presumably because more players have had time to hit the first gate. We also see that the <em>overall</em> 7-day retention is lower than the <em>overall</em> 1-day retention; fewer people play a game a week after installing than a day after installing.\n",
    "</p>"
   ]
  },
  {
   "cell_type": "code",
   "execution_count": 10,
   "id": "c6263809",
   "metadata": {
    "dc": {
     "key": "67"
    },
    "execution": {
     "iopub.execute_input": "2023-02-01T19:30:47.600739Z",
     "iopub.status.busy": "2023-02-01T19:30:47.600088Z",
     "iopub.status.idle": "2023-02-01T19:30:56.860196Z",
     "shell.execute_reply": "2023-02-01T19:30:56.859164Z"
    },
    "papermill": {
     "duration": 9.271028,
     "end_time": "2023-02-01T19:30:56.862173",
     "exception": false,
     "start_time": "2023-02-01T19:30:47.591145",
     "status": "completed"
    },
    "tags": [
     "sample_code"
    ]
   },
   "outputs": [
    {
     "data": {
      "text/plain": [
       "'100.0%'"
      ]
     },
     "execution_count": 10,
     "metadata": {},
     "output_type": "execute_result"
    },
    {
     "data": {
      "image/png": "[encoded data removed]",
      "text/plain": [
       "<Figure size 432x288 with 1 Axes>"
      ]
     },
     "metadata": {
      "needs_background": "light"
     },
     "output_type": "display_data"
    }
   ],
   "source": [
    "# Creating a list with bootstrapped means for each AB-group\n",
    "boot_7d = []\n",
    "for i in range(500):\n",
    "    boot_mean = df.sample(frac=1, replace=True).groupby('version')['retention_7'].mean()\n",
    "    boot_7d.append(boot_mean)\n",
    "    \n",
    "# Transforming the list to a DataFrame\n",
    "boot_7d = pd.DataFrame(boot_7d)\n",
    "\n",
    "# Adding a column with the % difference between the two AB-groups\n",
    "boot_7d['diff'] = (boot_7d['gate_30'] - boot_7d['gate_40']) /  boot_7d['gate_30'] * 100\n",
    "\n",
    "# Ploting the bootstrap % difference\n",
    "ax = boot_7d['diff'].plot(kind = 'kde')\n",
    "ax.set_xlabel(\"% difference in means\")\n",
    "\n",
    "# Calculating the probability that 7-day retention is greater when the gate is at level 30\n",
    "prob = (boot_7d['diff'] > 0).sum() / len(boot_7d)\n",
    "\n",
    "# Pretty printing the probability\n",
    "'{:.1%}'.format(prob)"
   ]
  },
  {
   "cell_type": "markdown",
   "id": "df783858",
   "metadata": {
    "dc": {
     "key": "74"
    },
    "deletable": false,
    "papermill": {
     "duration": 0.007303,
     "end_time": "2023-02-01T19:30:56.877427",
     "exception": false,
     "start_time": "2023-02-01T19:30:56.870124",
     "status": "completed"
    },
    "run_control": {
     "frozen": true
    },
    "tags": [
     "context"
    ]
   },
   "source": [
    "<p style=\"width: 1000px;padding: 20px;background: papayawhip;border-radius:10px;font-size:17px;border-radius:20px\"> \n",
    "<b>The conclusion</b><br>\n",
    "<br>&#8226;  The bootstrap result tells us that there is strong evidence that 7-day retention is higher when the gate is at level 30 than when it is at level 40. The conclusion is: If we want to keep retention high — both 1-day and 7-day retention — we should <strong>not</strong> move the gate from level 30 to level 40. There are, of course, other metrics we could look at, like the number of game rounds played or how much in-game purchases are made by the two AB-groups. But retention <em>is</em> one of the most important metrics. If we don't retain our player base, it doesn't matter how much money they spend in-game.\n",
    "   <br> <br>&#8226; why is retention higher when the gate is positioned earlier? One could expect the opposite: The later the obstacle, the longer people are going to engage with the game. But this is not what the data tells us. The theory of <em>hedonic adaptation</em> can give one explanation for this. In short, hedonic adaptation is the tendency for people to get less and less enjoyment out of a fun activity over time if that activity is undertaken continuously. By forcing players to take a break when they reach a gate, their enjoyment of the game is prolonged. But when the gate is moved to level 40, fewer players make it far enough, and they are more likely to quit the game because they simply got bored of it. \n",
    "    <br><br><b>Therefore dont move the gate to level 40!</b>\n",
    "</p>"
   ]
  }
 ],
 "metadata": {
  "kernelspec": {
   "display_name": "Python 3",
   "language": "python",
   "name": "python3"
  },
  "language_info": {
   "codemirror_mode": {
    "name": "ipython",
    "version": 3
   },
   "file_extension": ".py",
   "mimetype": "text/x-python",
   "name": "python",
   "nbconvert_exporter": "python",
   "pygments_lexer": "ipython3",
   "version": "3.7.12"
  },
  "papermill": {
   "default_parameters": {},
   "duration": 28.873122,
   "end_time": "2023-02-01T19:30:57.710823",
   "environment_variables": {},
   "exception": null,
   "input_path": "__notebook__.ipynb",
   "output_path": "__notebook__.ipynb",
   "parameters": {},
   "start_time": "2023-02-01T19:30:28.837701",
   "version": "2.3.4"
  }
 },
 "nbformat": 4,
 "nbformat_minor": 5
}
