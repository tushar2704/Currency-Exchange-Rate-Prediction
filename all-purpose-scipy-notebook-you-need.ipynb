{
 "cells": [
  {
   "cell_type": "markdown",
   "id": "3d79a2cb",
   "metadata": {
    "papermill": {
     "duration": 0.002904,
     "end_time": "2022-12-29T13:57:56.002419",
     "exception": false,
     "start_time": "2022-12-29T13:57:55.999515",
     "status": "completed"
    },
    "tags": []
   },
   "source": [
    "<div style=\"color:white;\n",
    "           display:fill;\n",
    "           border-radius:20px;\n",
    "           background-color:#F5DEB3;\n",
    "           font-size:180%;\n",
    "           font-family:Helvetica, Sans-Serif;\n",
    "           letter-spacing:0.5px\">\n",
    "<p style=\"padding: 10px;\n",
    "          text-align: center;\n",
    "          font-size:150%;\n",
    "          color:blue;\">\n",
    "           📚📑All-Purpose SciPy Notebook you need!📚📑\n",
    "            \n",
    "</p>\n",
    "<style>\n",
    "        h1{text-align: center;}\n",
    " </style>  \n",
    "    \n",
    "</div>"
   ]
  },
  {
   "cell_type": "markdown",
   "id": "56c71dad",
   "metadata": {
    "papermill": {
     "duration": 0.001508,
     "end_time": "2022-12-29T13:57:56.006073",
     "exception": false,
     "start_time": "2022-12-29T13:57:56.004565",
     "status": "completed"
    },
    "tags": []
   },
   "source": [
    "\n",
    "<p style=\"font-family:cursive; font-size:25px; color:'darkcyan';\">I brewed this notebook from scratch, if this helped, please consider upvoting and cite me if sharing on other platforms.</p>\n",
    "\n",
    "\n",
    "<p style=\"width: 700px;padding: 20px;background: papayawhip;border-radius:10px;font-size:23px;font-size:23px;border-radius:20px\">\n",
    "    <a href=\"https://www.linkedin.com/in/tusharaggarwalinseec/\" target=\"_blank\">Lets connect on LinkedIn!</a>\n",
    "    \n",
    "   </p>\n",
    "<p style=\"width: 700px;padding: 20px;background: papayawhip;border-radius:10px;font-size:23px;border-radius:20px\">\n",
    "<a href=\"https://github.com/tushar2704\" target=\"_blank\">Follow me on Github too!</a> </p>\n",
    "\n",
    "<p style=\"width: 700px;padding: 20px;background: papayawhip;border-radius:10px;font-size:23px;border-radius:20px\">\n",
    "    <a href=\"https://medium.com/@tushar_aggarwal\" target=\"_blank\">Also checkout my Medium posts!</a>\n",
    "    \n",
    "   </p>\n",
    "\n",
    "\n"
   ]
  },
  {
   "cell_type": "markdown",
   "id": "5f8287b9",
   "metadata": {
    "papermill": {
     "duration": 0.001407,
     "end_time": "2022-12-29T13:57:56.009248",
     "exception": false,
     "start_time": "2022-12-29T13:57:56.007841",
     "status": "completed"
    },
    "tags": []
   },
   "source": [
    "<img src=\"https://upload.wikimedia.org/wikipedia/commons/thumb/b/b2/SCIPY_2.svg/1200px-SCIPY_2.svg.png\" style=\"width:250px;height:250px;\">\n",
    "\n",
    "<div class=\"alert alert-info\" role=\"alert\" style=\"font-size:18px;border-radius:20px\">\n",
    "<b>In this notebook, I used SciPy liabrary to show most frequent functions that you might require in a single notebook.</b> If you're a data scientist or engineer, chances are you've heard of the SCIPY library. This powerful toolkit is a must-have in any data-driven professional's toolkit, offering a wide range of capabilities for scientific and technical computing. From linear algebra and optimization to signal and image processing, SCIPY has you covered.\n",
    "</div>\n",
    "\n"
   ]
  },
  {
   "cell_type": "code",
   "execution_count": null,
   "id": "5d10dec2",
   "metadata": {
    "papermill": {
     "duration": 0.001392,
     "end_time": "2022-12-29T13:57:56.012295",
     "exception": false,
     "start_time": "2022-12-29T13:57:56.010903",
     "status": "completed"
    },
    "tags": []
   },
   "outputs": [],
   "source": []
  }
 ],
 "metadata": {
  "kernelspec": {
   "display_name": "Python 3",
   "language": "python",
   "name": "python3"
  },
  "language_info": {
   "codemirror_mode": {
    "name": "ipython",
    "version": 3
   },
   "file_extension": ".py",
   "mimetype": "text/x-python",
   "name": "python",
   "nbconvert_exporter": "python",
   "pygments_lexer": "ipython3",
   "version": "3.7.12"
  },
  "papermill": {
   "default_parameters": {},
   "duration": 9.507533,
   "end_time": "2022-12-29T13:57:56.739121",
   "environment_variables": {},
   "exception": null,
   "input_path": "__notebook__.ipynb",
   "output_path": "__notebook__.ipynb",
   "parameters": {},
   "start_time": "2022-12-29T13:57:47.231588",
   "version": "2.3.4"
  }
 },
 "nbformat": 4,
 "nbformat_minor": 5
}
