{
 "cells": [
  {
   "cell_type": "markdown",
   "id": "08067cd1",
   "metadata": {
    "papermill": {
     "duration": 0.003946,
     "end_time": "2022-12-09T14:46:59.899088",
     "exception": false,
     "start_time": "2022-12-09T14:46:59.895142",
     "status": "completed"
    },
    "tags": []
   },
   "source": [
    "<div style=\"color:white;\n",
    "           display:fill;\n",
    "           border-radius:2px;\n",
    "           background-color:#F5DEB3;\n",
    "           font-size:250%;\n",
    "           font-family:Verdana;\n",
    "           letter-spacing:0.5px\">\n",
    "<p style=\"padding: 10px;\n",
    "          text-align: center;\n",
    "          font-size:150%;\n",
    "          color:blue;\">\n",
    "           🦥😴LAZY PREDICT😴🦥📊\n",
    "</p>\n",
    "<style>\n",
    "        h1{text-align: center;}\n",
    " </style>  \n",
    "    \n",
    "</div>\n",
    "\n",
    "\n",
    "# Can you use 🦥😴LAZYPREDICT😴🦥📊  to get sense of the best model which will work for you?\n"
   ]
  },
  {
   "cell_type": "markdown",
   "id": "df9e62a6",
   "metadata": {
    "papermill": {
     "duration": 0.002581,
     "end_time": "2022-12-09T14:46:59.904747",
     "exception": false,
     "start_time": "2022-12-09T14:46:59.902166",
     "status": "completed"
    },
    "tags": []
   },
   "source": [
    "## In this notebook I am showing you how LAZYPREDICT can be super useful, get ready, please **upvote** and bookmark if this helped you in any way and follow me on for more such original content:\n",
    "\n",
    "### github.com/tushar2704,kaggle.com/tusharaggarwal27, linkedin.com/in/tusharaggarwalinseec"
   ]
  },
  {
   "cell_type": "markdown",
   "id": "074e8d8a",
   "metadata": {
    "papermill": {
     "duration": 0.002518,
     "end_time": "2022-12-09T14:46:59.910226",
     "exception": false,
     "start_time": "2022-12-09T14:46:59.907708",
     "status": "completed"
    },
    "tags": []
   },
   "source": [
    "<div style=\"color:white;\n",
    "           display:fill;\n",
    "           border-radius:5px;\n",
    "           background-color:#DAA520;\n",
    "           font-size:250%;\n",
    "           font-family:Verdana;\n",
    "           letter-spacing:0.5px\">\n",
    "\n",
    "<p style=\"padding:3px;\n",
    "          text-align: center;\n",
    "          font-size:150%;\n",
    "          color:blue;\">\n",
    "           📚📚About LazyPredict🧾📑\n",
    "</p>\n",
    "<style>\n",
    "        h1{text-align: center;}\n",
    " </style> "
   ]
  },
  {
   "cell_type": "markdown",
   "id": "70c4fd86",
   "metadata": {
    "papermill": {
     "duration": 0.002538,
     "end_time": "2022-12-09T14:46:59.915552",
     "exception": false,
     "start_time": "2022-12-09T14:46:59.913014",
     "status": "completed"
    },
    "tags": []
   },
   "source": [
    "<div style=\"color:white;\n",
    "           display:fill;\n",
    "           border-radius:5px;\n",
    "           background-color:skyblue;\n",
    "           font-size:100%;\n",
    "           font-family:Verdana;\n",
    "           letter-spacing:0.5px\">\n",
    "\n",
    "<p style=\"padding: 10px;\n",
    "          text-align: center;\n",
    "          color:black;\">\n",
    "When starting to tackle a supervised or Unsupervised learning problem, it is often not clear which model will perform well on the dataset at hand. A possible solution is to start with a model that works fairly well for many datasets (such as random forests) and  iterate. This way you can set the criteria you want to improve.\n",
    "\n",
    "</p>"
   ]
  },
  {
   "cell_type": "markdown",
   "id": "3c3635d8",
   "metadata": {
    "papermill": {
     "duration": 0.002513,
     "end_time": "2022-12-09T14:46:59.920833",
     "exception": false,
     "start_time": "2022-12-09T14:46:59.918320",
     "status": "completed"
    },
    "tags": []
   },
   "source": [
    "<div style=\"color:white;\n",
    "           display:fill;\n",
    "           border-radius:5px;\n",
    "           background-color:orange;\n",
    "           font-size:100%;\n",
    "           font-family:Verdana;\n",
    "           letter-spacing:0.5px\">\n",
    "\n",
    "<p style=\"padding: 10px;\n",
    "          text-align: center;\n",
    "          color:black;\">\n",
    "Lets install it first\n",
    "\n",
    "</p>"
   ]
  },
  {
   "cell_type": "markdown",
   "id": "f76932c1",
   "metadata": {
    "papermill": {
     "duration": 0.002465,
     "end_time": "2022-12-09T14:46:59.926025",
     "exception": false,
     "start_time": "2022-12-09T14:46:59.923560",
     "status": "completed"
    },
    "tags": []
   },
   "source": []
  },
  {
   "cell_type": "markdown",
   "id": "e59c0003",
   "metadata": {
    "papermill": {
     "duration": 0.002439,
     "end_time": "2022-12-09T14:46:59.931177",
     "exception": false,
     "start_time": "2022-12-09T14:46:59.928738",
     "status": "completed"
    },
    "tags": []
   },
   "source": []
  },
  {
   "cell_type": "markdown",
   "id": "2bb095e5",
   "metadata": {
    "papermill": {
     "duration": 0.002533,
     "end_time": "2022-12-09T14:46:59.936394",
     "exception": false,
     "start_time": "2022-12-09T14:46:59.933861",
     "status": "completed"
    },
    "tags": []
   },
   "source": []
  },
  {
   "cell_type": "markdown",
   "id": "8d1c7774",
   "metadata": {
    "papermill": {
     "duration": 0.002445,
     "end_time": "2022-12-09T14:46:59.941496",
     "exception": false,
     "start_time": "2022-12-09T14:46:59.939051",
     "status": "completed"
    },
    "tags": []
   },
   "source": [
    "<div style=\"color:white;\n",
    "           display:fill;\n",
    "           border-radius:5px;\n",
    "           background-color:orange;\n",
    "           font-size:100%;\n",
    "           font-family:Verdana;\n",
    "           letter-spacing:0.5px\">\n",
    "\n",
    "<p style=\"padding: 10px;\n",
    "          text-align: center;\n",
    "          color:black;\">\n",
    "Importing all the other required Liabraries\n",
    "\n",
    "</p>"
   ]
  },
  {
   "cell_type": "code",
   "execution_count": 1,
   "id": "a6614c81",
   "metadata": {
    "execution": {
     "iopub.execute_input": "2022-12-09T14:46:59.949127Z",
     "iopub.status.busy": "2022-12-09T14:46:59.948686Z",
     "iopub.status.idle": "2022-12-09T14:47:02.799532Z",
     "shell.execute_reply": "2022-12-09T14:47:02.797961Z"
    },
    "papermill": {
     "duration": 2.858246,
     "end_time": "2022-12-09T14:47:02.802415",
     "exception": false,
     "start_time": "2022-12-09T14:46:59.944169",
     "status": "completed"
    },
    "tags": []
   },
   "outputs": [],
   "source": [
    "# Data manipulation imports\n",
    "import numpy as np\n",
    "import pandas as pd\n",
    "\n",
    "# Visualization imports\n",
    "import matplotlib.pyplot as plt\n",
    "import plotly.express as px\n",
    "\n",
    "# Modeling imports\n",
    "from sklearn.model_selection import train_test_split\n",
    "from sklearn.impute import SimpleImputer\n",
    "from sklearn.preprocessing import OneHotEncoder, StandardScaler\n",
    "from sklearn.compose import ColumnTransformer\n",
    "from sklearn.pipeline import Pipeline\n",
    "from sklearn.neighbors import KNeighborsClassifier\n",
    "from sklearn.metrics import accuracy_score, ConfusionMatrixDisplay"
   ]
  },
  {
   "cell_type": "code",
   "execution_count": null,
   "id": "2a1058cf",
   "metadata": {
    "papermill": {
     "duration": 0.002699,
     "end_time": "2022-12-09T14:47:02.808421",
     "exception": false,
     "start_time": "2022-12-09T14:47:02.805722",
     "status": "completed"
    },
    "tags": []
   },
   "outputs": [],
   "source": []
  }
 ],
 "metadata": {
  "kernelspec": {
   "display_name": "Python 3",
   "language": "python",
   "name": "python3"
  },
  "language_info": {
   "codemirror_mode": {
    "name": "ipython",
    "version": 3
   },
   "file_extension": ".py",
   "mimetype": "text/x-python",
   "name": "python",
   "nbconvert_exporter": "python",
   "pygments_lexer": "ipython3",
   "version": "3.7.12"
  },
  "papermill": {
   "default_parameters": {},
   "duration": 12.789143,
   "end_time": "2022-12-09T14:47:03.641879",
   "environment_variables": {},
   "exception": null,
   "input_path": "__notebook__.ipynb",
   "output_path": "__notebook__.ipynb",
   "parameters": {},
   "start_time": "2022-12-09T14:46:50.852736",
   "version": "2.3.4"
  }
 },
 "nbformat": 4,
 "nbformat_minor": 5
}
